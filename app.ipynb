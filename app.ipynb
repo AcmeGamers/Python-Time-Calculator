{
 "cells": [
  {
   "cell_type": "code",
   "execution_count": 9,
   "metadata": {},
   "outputs": [],
   "source": [
    "# logs = [\n",
    "#     \"3:00 PM\",\n",
    "#     \"11:30 AM\",\n",
    "#     \"11:43 AM\",\n",
    "#     \"10:10 PM\",\n",
    "#     \"11:43 PM\",\n",
    "#     \"6:30 PM\"    \n",
    "# ]\n",
    "\n",
    "# print(\"val 1 = \" + str(logs[0]) + \"\\n\" \n",
    "#     + \"val 2 = \" + str(logs[1]) + \"\\n\" \n",
    "#     + \"val 3 = \" + str(logs[2]) + \"\\n\" \n",
    "#     + \"val 4 = \" + str(logs[3]) + \"\\n\" \n",
    "#     + \"val 5 = \" + str(logs[4]) + \"\\n\"  \n",
    "#     + \"val 6 = \" + str(logs[5])   )"
   ]
  },
  {
   "cell_type": "code",
   "execution_count": 16,
   "metadata": {},
   "outputs": [
    {
     "ename": "ValueError",
     "evalue": "invalid literal for int() with base 10: '3:00'",
     "output_type": "error",
     "traceback": [
      "\u001b[1;31m---------------------------------------------------------------------------\u001b[0m",
      "\u001b[1;31mValueError\u001b[0m                                Traceback (most recent call last)",
      "\u001b[1;32m~\\AppData\\Local\\Temp/ipykernel_12944/1908915478.py\u001b[0m in \u001b[0;36m<module>\u001b[1;34m\u001b[0m\n\u001b[0;32m     66\u001b[0m \u001b[1;33m\u001b[0m\u001b[0m\n\u001b[0;32m     67\u001b[0m \u001b[1;33m\u001b[0m\u001b[0m\n\u001b[1;32m---> 68\u001b[1;33m \u001b[0madd_time\u001b[0m\u001b[1;33m(\u001b[0m\u001b[1;34m\"3:00 PM\"\u001b[0m\u001b[1;33m,\u001b[0m \u001b[1;34m\"11:30 AM\"\u001b[0m\u001b[1;33m)\u001b[0m\u001b[1;33m\u001b[0m\u001b[1;33m\u001b[0m\u001b[0m\n\u001b[0m\u001b[0;32m     69\u001b[0m \u001b[1;33m\u001b[0m\u001b[0m\n\u001b[0;32m     70\u001b[0m \u001b[1;33m\u001b[0m\u001b[0m\n",
      "\u001b[1;32m~\\AppData\\Local\\Temp/ipykernel_12944/1908915478.py\u001b[0m in \u001b[0;36madd_time\u001b[1;34m(start_time, duration, day)\u001b[0m\n\u001b[0;32m     15\u001b[0m     \u001b[0mduration\u001b[0m \u001b[1;33m=\u001b[0m \u001b[0mduration\u001b[0m\u001b[1;33m.\u001b[0m\u001b[0msplit\u001b[0m\u001b[1;33m(\u001b[0m\u001b[1;34m\":\"\u001b[0m\u001b[1;33m)\u001b[0m\u001b[1;33m\u001b[0m\u001b[1;33m\u001b[0m\u001b[0m\n\u001b[0;32m     16\u001b[0m     \u001b[1;32mif\u001b[0m \u001b[0mstart_time\u001b[0m\u001b[1;33m[\u001b[0m\u001b[1;36m1\u001b[0m\u001b[1;33m]\u001b[0m \u001b[1;33m==\u001b[0m \u001b[1;34m\"PM\"\u001b[0m\u001b[1;33m:\u001b[0m\u001b[1;33m\u001b[0m\u001b[1;33m\u001b[0m\u001b[0m\n\u001b[1;32m---> 17\u001b[1;33m         \u001b[0mstart_time\u001b[0m\u001b[1;33m[\u001b[0m\u001b[1;36m0\u001b[0m\u001b[1;33m]\u001b[0m \u001b[1;33m=\u001b[0m \u001b[0mint\u001b[0m\u001b[1;33m(\u001b[0m\u001b[0mstart_time\u001b[0m\u001b[1;33m[\u001b[0m\u001b[1;36m0\u001b[0m\u001b[1;33m]\u001b[0m\u001b[1;33m)\u001b[0m \u001b[1;33m+\u001b[0m \u001b[1;36m12\u001b[0m\u001b[1;33m\u001b[0m\u001b[1;33m\u001b[0m\u001b[0m\n\u001b[0m\u001b[0;32m     18\u001b[0m     \u001b[1;32melse\u001b[0m\u001b[1;33m:\u001b[0m\u001b[1;33m\u001b[0m\u001b[1;33m\u001b[0m\u001b[0m\n\u001b[0;32m     19\u001b[0m         \u001b[0mstart_time\u001b[0m\u001b[1;33m[\u001b[0m\u001b[1;36m0\u001b[0m\u001b[1;33m]\u001b[0m \u001b[1;33m=\u001b[0m \u001b[0mint\u001b[0m\u001b[1;33m(\u001b[0m\u001b[0mstart_time\u001b[0m\u001b[1;33m[\u001b[0m\u001b[1;36m0\u001b[0m\u001b[1;33m]\u001b[0m\u001b[1;33m)\u001b[0m\u001b[1;33m\u001b[0m\u001b[1;33m\u001b[0m\u001b[0m\n",
      "\u001b[1;31mValueError\u001b[0m: invalid literal for int() with base 10: '3:00'"
     ]
    }
   ],
   "source": [
    "# logs = [\n",
    "#     add_time(\"3:00 PM\", \"3:10\"),\n",
    "#     # Returns: 6:10 PM\n",
    "\n",
    "#     add_time(\"11:30 AM\", \"2:32\", \"Monday\"),\n",
    "#     # Returns: 2:02 PM, Monday\n",
    "\n",
    "#     add_time(\"11:43 AM\", \"00:20\"),\n",
    "#     # Returns: 12:03 PM\n",
    "\n",
    "#     add_time(\"10:10 PM\", \"3:30\"),\n",
    "#     # Returns: 1:40 AM (next day)\n",
    "\n",
    "#     add_time(\"11:43 PM\", \"24:20\", \"tueSday\"),\n",
    "#     # Returns: 12:03 AM, Thursday (2 days later)\n",
    "\n",
    "#     add_time(\"6:30 PM\", \"205:12\")\n",
    "#     # Returns: 7:42 AM (9 days later)\n",
    "# ]\n",
    "\n",
    "# print(\"val 1 = \" + str(logs[0]) + \"\\n\" \n",
    "#     + \"val 2 = \" + str(logs[1]) + \"\\n\" \n",
    "#     + \"val 3 = \" + str(logs[2]) + \"\\n\" \n",
    "#     + \"val 4 = \" + str(logs[3]) + \"\\n\" \n",
    "#     + \"val 5 = \" + str(logs[4]) + \"\\n\"  \n",
    "#     + \"val 6 = \" + str(logs[5])   )"
   ]
  }
 ],
 "metadata": {
  "interpreter": {
   "hash": "e986eaf338342c48e8a2e3332f95951a71f374ef723b13437ea2e2c6c2c04b98"
  },
  "kernelspec": {
   "display_name": "Python 3.10.0 64-bit",
   "language": "python",
   "name": "python3"
  },
  "language_info": {
   "codemirror_mode": {
    "name": "ipython",
    "version": 3
   },
   "file_extension": ".py",
   "mimetype": "text/x-python",
   "name": "python",
   "nbconvert_exporter": "python",
   "pygments_lexer": "ipython3",
   "version": "3.10.0"
  },
  "orig_nbformat": 4
 },
 "nbformat": 4,
 "nbformat_minor": 2
}
