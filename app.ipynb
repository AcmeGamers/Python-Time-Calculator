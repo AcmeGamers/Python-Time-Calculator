{
 "cells": [
  {
   "cell_type": "code",
   "execution_count": 8,
   "metadata": {},
   "outputs": [
    {
     "name": "stdout",
     "output_type": "stream",
     "text": [
      "val 1 = 3:00 PM\n",
      "val 2 = 11:30 AM\n",
      "val 3 = 11:43 AM\n",
      "val 4 = 10:10 PM\n",
      "val 5 = 11:43 PM\n",
      "val 6 = 6:30 PM\n"
     ]
    }
   ],
   "source": [
    "# logs = [\n",
    "#     add_time(\"3:00 PM\", \"3:10\"),\n",
    "#     # Returns: 6:10 PM\n",
    "\n",
    "#     add_time(\"11:30 AM\", \"2:32\", \"Monday\"),\n",
    "#     # Returns: 2:02 PM, Monday\n",
    "\n",
    "#     add_time(\"11:43 AM\", \"00:20\"),\n",
    "#     # Returns: 12:03 PM\n",
    "\n",
    "#     add_time(\"10:10 PM\", \"3:30\"),\n",
    "#     # Returns: 1:40 AM (next day)\n",
    "\n",
    "#     add_time(\"11:43 PM\", \"24:20\", \"tueSday\"),\n",
    "#     # Returns: 12:03 AM, Thursday (2 days later)\n",
    "\n",
    "#     add_time(\"6:30 PM\", \"205:12\")\n",
    "#     # Returns: 7:42 AM (9 days later)\n",
    "# ]\n",
    "logs = [\n",
    "    \"3:00 PM\",\n",
    "    \"11:30 AM\",\n",
    "    \"11:43 AM\",\n",
    "    \"10:10 PM\",\n",
    "    \"11:43 PM\",\n",
    "    \"6:30 PM\"    \n",
    "]\n",
    "\n",
    "print(\"val 1 = \" + str(logs[0]) + \"\\n\" \n",
    "    + \"val 2 = \" + str(logs[1]) + \"\\n\" \n",
    "    + \"val 3 = \" + str(logs[2]) + \"\\n\" \n",
    "    + \"val 4 = \" + str(logs[3]) + \"\\n\" \n",
    "    + \"val 5 = \" + str(logs[4]) + \"\\n\"  \n",
    "    + \"val 6 = \" + str(logs[5])   )\n",
    "      \n",
    "    \n",
    "    "
   ]
  }
 ],
 "metadata": {
  "interpreter": {
   "hash": "e986eaf338342c48e8a2e3332f95951a71f374ef723b13437ea2e2c6c2c04b98"
  },
  "kernelspec": {
   "display_name": "Python 3.10.0 64-bit",
   "language": "python",
   "name": "python3"
  },
  "language_info": {
   "codemirror_mode": {
    "name": "ipython",
    "version": 3
   },
   "file_extension": ".py",
   "mimetype": "text/x-python",
   "name": "python",
   "nbconvert_exporter": "python",
   "pygments_lexer": "ipython3",
   "version": "3.10.0"
  },
  "orig_nbformat": 4
 },
 "nbformat": 4,
 "nbformat_minor": 2
}
